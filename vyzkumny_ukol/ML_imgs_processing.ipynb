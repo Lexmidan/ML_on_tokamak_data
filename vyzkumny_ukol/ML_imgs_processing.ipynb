{
 "cells": [
  {
   "cell_type": "markdown",
   "metadata": {},
   "source": [
    "<h3>Vytvoření y</h3>\n",
    "\n",
    "y = co má neuronka předpovídat. V našem případě začneme tím, zda byl v daném čase L-mod nebo H-mod.\n",
    "\n",
    "Je třeba:\n",
    "\n",
    "- načíst signály popisující začátek a konec H-módu v daném výboji: `t_H_mode_start` a `t_H_mode_end`.\n",
    "\n",
    "- z adresáře s obrazovými daty zjistit časy snímků kamery v daném výboji\n",
    "\n",
    "- pro každý čas zjistit, zda jde o L-mód nebo H-mód\n",
    "\n",
    "- uložit do csv (např ve formátu slupců [název souboru se snímkem z kamery, čas ve výboji, label zda L-mode/H-mode]) - použijte pandas"
   ]
  },
  {
   "cell_type": "markdown",
   "metadata": {},
   "source": [
    "Importing libraries"
   ]
  },
  {
   "cell_type": "code",
   "execution_count": null,
   "metadata": {},
   "outputs": [],
   "source": [
    "import os\n",
    "os.chdir(\"/compass/Shared/Users/bogdanov/vyzkumny_ukol\")"
   ]
  },
  {
   "cell_type": "code",
   "execution_count": null,
   "metadata": {},
   "outputs": [],
   "source": [
    "from cdb_extras import xarray_support as cdbxr   # načítání dat z databáze COMPASSu\n",
    "from pyCDB import client\n",
    "import numpy as np         # práce s numerickými poli\n",
    "import pandas as pd\n",
    "from pathlib import Path\n",
    "%matplotlib inline\n",
    "\n",
    "#import module with functions from the tutorial\n",
    "import cdb_img_processing as img\n",
    "cdb = client.CDBClient()"
   ]
  },
  {
   "cell_type": "markdown",
   "metadata": {},
   "source": [
    "Importing data"
   ]
  },
  {
   "cell_type": "code",
   "execution_count": 9,
   "metadata": {},
   "outputs": [],
   "source": [
    "shot = 16534\n",
    "t_ELM_start = cdb.get_signal(f\"t_ELM_start/SYNTHETIC_DIAGNOSTICS:{shot}:bogdanov_2023\")\n",
    "t_ELM_end = cdb.get_signal(f\"t_ELM_end/SYNTHETIC_DIAGNOSTICS:{shot}:bogdanov_2023\")\n",
    "t_H_mode_start = cdb.get_signal(f\"t_H_mode_start/SYNTHETIC_DIAGNOSTICS:{shot}:bogdanov_2023\")\n",
    "t_H_mode_end = cdb.get_signal(f\"t_H_mode_end/SYNTHETIC_DIAGNOSTICS:{shot}:bogdanov_2023\")"
   ]
  },
  {
   "cell_type": "code",
   "execution_count": 10,
   "metadata": {},
   "outputs": [],
   "source": [
    "ris1_data = img.load_RIS_data(shot, 1)\n",
    "ris2_data = img.load_RIS_data(shot, 2)\n",
    "\n",
    "ris1_imgs = img.flip_image(img.demosaic(ris1_data)[1][:34])    #[]<==test REMove after completion the rest of the task) \n",
    "ris2_imgs = img.flip_image(img.demosaic(ris2_data)[1][:34])"
   ]
  },
  {
   "cell_type": "code",
   "execution_count": 14,
   "metadata": {},
   "outputs": [],
   "source": [
    "#TODO:  To create a DataFrame with only one row, you need to specify an index, so if during the shot plasma was in H-mode more than once...\n",
    "t_H_mode = pd.DataFrame({'start':t_H_mode_start.data, 'end':t_H_mode_end.data}, index=[0])\n",
    "t_ELM = pd.DataFrame({'start':t_ELM_start.data, 'end':t_ELM_end.data})"
   ]
  },
  {
   "cell_type": "code",
   "execution_count": 15,
   "metadata": {},
   "outputs": [],
   "source": [
    "LorH = pd.DataFrame(data={'mode':np.full(len(ris1_imgs), 1)}, index=pd.Index(ris1_imgs.time, name='time'))#contains time and the state of the plasma (L-mode, H-mode, ELM)\n",
    "# 'mode'=1 stands for L-mode, 'mode'=2 stands for  H-mode, 'mode'=3 stands for  => ELM"
   ]
  },
  {
   "cell_type": "code",
   "execution_count": 16,
   "metadata": {},
   "outputs": [
    {
     "data": {
      "text/html": [
       "<div>\n",
       "<style scoped>\n",
       "    .dataframe tbody tr th:only-of-type {\n",
       "        vertical-align: middle;\n",
       "    }\n",
       "\n",
       "    .dataframe tbody tr th {\n",
       "        vertical-align: top;\n",
       "    }\n",
       "\n",
       "    .dataframe thead th {\n",
       "        text-align: right;\n",
       "    }\n",
       "</style>\n",
       "<table border=\"1\" class=\"dataframe\">\n",
       "  <thead>\n",
       "    <tr style=\"text-align: right;\">\n",
       "      <th></th>\n",
       "      <th>mode</th>\n",
       "    </tr>\n",
       "    <tr>\n",
       "      <th>time</th>\n",
       "      <th></th>\n",
       "    </tr>\n",
       "  </thead>\n",
       "  <tbody>\n",
       "    <tr>\n",
       "      <th>950.0</th>\n",
       "      <td>1</td>\n",
       "    </tr>\n",
       "    <tr>\n",
       "      <th>950.2</th>\n",
       "      <td>1</td>\n",
       "    </tr>\n",
       "    <tr>\n",
       "      <th>950.4</th>\n",
       "      <td>1</td>\n",
       "    </tr>\n",
       "    <tr>\n",
       "      <th>950.6</th>\n",
       "      <td>1</td>\n",
       "    </tr>\n",
       "    <tr>\n",
       "      <th>950.8</th>\n",
       "      <td>1</td>\n",
       "    </tr>\n",
       "    <tr>\n",
       "      <th>...</th>\n",
       "      <td>...</td>\n",
       "    </tr>\n",
       "    <tr>\n",
       "      <th>1395.4</th>\n",
       "      <td>1</td>\n",
       "    </tr>\n",
       "    <tr>\n",
       "      <th>1395.6</th>\n",
       "      <td>1</td>\n",
       "    </tr>\n",
       "    <tr>\n",
       "      <th>1395.8</th>\n",
       "      <td>1</td>\n",
       "    </tr>\n",
       "    <tr>\n",
       "      <th>1396.0</th>\n",
       "      <td>1</td>\n",
       "    </tr>\n",
       "    <tr>\n",
       "      <th>1396.2</th>\n",
       "      <td>1</td>\n",
       "    </tr>\n",
       "  </tbody>\n",
       "</table>\n",
       "<p>2232 rows × 1 columns</p>\n",
       "</div>"
      ],
      "text/plain": [
       "        mode\n",
       "time        \n",
       "950.0      1\n",
       "950.2      1\n",
       "950.4      1\n",
       "950.6      1\n",
       "950.8      1\n",
       "...      ...\n",
       "1395.4     1\n",
       "1395.6     1\n",
       "1395.8     1\n",
       "1396.0     1\n",
       "1396.2     1\n",
       "\n",
       "[2232 rows x 1 columns]"
      ]
     },
     "execution_count": 16,
     "metadata": {},
     "output_type": "execute_result"
    }
   ],
   "source": [
    "LorH"
   ]
  },
  {
   "cell_type": "code",
   "execution_count": 17,
   "metadata": {},
   "outputs": [],
   "source": [
    "#Nevim jak bych to udelal bez for cyklu:\n",
    "for elm in t_ELM.values:\n",
    "    LorH.loc[elm[0]:elm[1]] = 3   #1 will stand for L-mode, 2 for H-mode and 3 for ELM\n",
    "\n",
    "for H_mode in t_H_mode.values:\n",
    "    LorH.loc[H_mode[0]:H_mode[1]] = 2 #1 will stand for L-mode, 2 for H-mode and 3 for ELM"
   ]
  },
  {
   "cell_type": "markdown",
   "metadata": {},
   "source": [
    "Saving the images"
   ]
  },
  {
   "cell_type": "code",
   "execution_count": 18,
   "metadata": {},
   "outputs": [
    {
     "name": "stdout",
     "output_type": "stream",
     "text": [
      "0/2232 imgs are saved\n",
      "50/2232 imgs are saved\n",
      "100/2232 imgs are saved\n",
      "150/2232 imgs are saved\n",
      "200/2232 imgs are saved\n",
      "250/2232 imgs are saved\n",
      "300/2232 imgs are saved\n",
      "350/2232 imgs are saved\n",
      "400/2232 imgs are saved\n",
      "450/2232 imgs are saved\n",
      "500/2232 imgs are saved\n",
      "550/2232 imgs are saved\n",
      "600/2232 imgs are saved\n",
      "650/2232 imgs are saved\n",
      "700/2232 imgs are saved\n",
      "750/2232 imgs are saved\n",
      "800/2232 imgs are saved\n",
      "850/2232 imgs are saved\n",
      "900/2232 imgs are saved\n",
      "950/2232 imgs are saved\n",
      "1000/2232 imgs are saved\n",
      "1050/2232 imgs are saved\n",
      "1100/2232 imgs are saved\n",
      "1150/2232 imgs are saved\n",
      "1200/2232 imgs are saved\n",
      "1250/2232 imgs are saved\n",
      "1300/2232 imgs are saved\n",
      "1350/2232 imgs are saved\n",
      "1400/2232 imgs are saved\n",
      "1450/2232 imgs are saved\n",
      "1500/2232 imgs are saved\n",
      "1550/2232 imgs are saved\n",
      "1600/2232 imgs are saved\n",
      "1650/2232 imgs are saved\n",
      "1700/2232 imgs are saved\n",
      "1750/2232 imgs are saved\n",
      "1800/2232 imgs are saved\n",
      "1850/2232 imgs are saved\n",
      "1900/2232 imgs are saved\n",
      "1950/2232 imgs are saved\n",
      "2000/2232 imgs are saved\n",
      "2050/2232 imgs are saved\n",
      "2100/2232 imgs are saved\n",
      "2150/2232 imgs are saved\n",
      "2200/2232 imgs are saved\n"
     ]
    }
   ],
   "source": [
    "out_path = Path('./imgs')\n",
    "\n",
    "ris1_names = img.save_ris_images_to_folder(shot, out_path, ris=1) #I conciously decided not to cut the time in the filename at any decimal"
   ]
  },
  {
   "cell_type": "code",
   "execution_count": null,
   "metadata": {},
   "outputs": [
    {
     "data": {
      "text/plain": [
       "'/compass/Shared/Users/bogdanov/vyzkumny_ukol'"
      ]
     },
     "execution_count": 19,
     "metadata": {},
     "output_type": "execute_result"
    }
   ],
   "source": [
    "pwd"
   ]
  },
  {
   "cell_type": "code",
   "execution_count": null,
   "metadata": {},
   "outputs": [],
   "source": [
    "type(ris1_names)"
   ]
  },
  {
   "cell_type": "code",
   "execution_count": 10,
   "metadata": {},
   "outputs": [],
   "source": [
    "LorH['ris1'] = ris1_names  #- BAD IDEA"
   ]
  },
  {
   "cell_type": "code",
   "execution_count": null,
   "metadata": {},
   "outputs": [],
   "source": [
    "ris1_names"
   ]
  },
  {
   "cell_type": "code",
   "execution_count": 12,
   "metadata": {},
   "outputs": [
    {
     "data": {
      "text/html": [
       "<div>\n",
       "<style scoped>\n",
       "    .dataframe tbody tr th:only-of-type {\n",
       "        vertical-align: middle;\n",
       "    }\n",
       "\n",
       "    .dataframe tbody tr th {\n",
       "        vertical-align: top;\n",
       "    }\n",
       "\n",
       "    .dataframe thead th {\n",
       "        text-align: right;\n",
       "    }\n",
       "</style>\n",
       "<table border=\"1\" class=\"dataframe\">\n",
       "  <thead>\n",
       "    <tr style=\"text-align: right;\">\n",
       "      <th></th>\n",
       "      <th>mode</th>\n",
       "      <th>ris1</th>\n",
       "    </tr>\n",
       "    <tr>\n",
       "      <th>time</th>\n",
       "      <th></th>\n",
       "      <th></th>\n",
       "    </tr>\n",
       "  </thead>\n",
       "  <tbody>\n",
       "    <tr>\n",
       "      <th>950.0</th>\n",
       "      <td>1</td>\n",
       "      <td>None</td>\n",
       "    </tr>\n",
       "    <tr>\n",
       "      <th>950.2</th>\n",
       "      <td>1</td>\n",
       "      <td>None</td>\n",
       "    </tr>\n",
       "    <tr>\n",
       "      <th>950.4</th>\n",
       "      <td>1</td>\n",
       "      <td>None</td>\n",
       "    </tr>\n",
       "    <tr>\n",
       "      <th>950.6</th>\n",
       "      <td>1</td>\n",
       "      <td>None</td>\n",
       "    </tr>\n",
       "    <tr>\n",
       "      <th>950.8</th>\n",
       "      <td>1</td>\n",
       "      <td>None</td>\n",
       "    </tr>\n",
       "    <tr>\n",
       "      <th>...</th>\n",
       "      <td>...</td>\n",
       "      <td>...</td>\n",
       "    </tr>\n",
       "    <tr>\n",
       "      <th>1395.4</th>\n",
       "      <td>1</td>\n",
       "      <td>None</td>\n",
       "    </tr>\n",
       "    <tr>\n",
       "      <th>1395.6</th>\n",
       "      <td>1</td>\n",
       "      <td>None</td>\n",
       "    </tr>\n",
       "    <tr>\n",
       "      <th>1395.8</th>\n",
       "      <td>1</td>\n",
       "      <td>None</td>\n",
       "    </tr>\n",
       "    <tr>\n",
       "      <th>1396.0</th>\n",
       "      <td>1</td>\n",
       "      <td>None</td>\n",
       "    </tr>\n",
       "    <tr>\n",
       "      <th>1396.2</th>\n",
       "      <td>1</td>\n",
       "      <td>None</td>\n",
       "    </tr>\n",
       "  </tbody>\n",
       "</table>\n",
       "<p>2232 rows × 2 columns</p>\n",
       "</div>"
      ],
      "text/plain": [
       "        mode  ris1\n",
       "time              \n",
       "950.0      1  None\n",
       "950.2      1  None\n",
       "950.4      1  None\n",
       "950.6      1  None\n",
       "950.8      1  None\n",
       "...      ...   ...\n",
       "1395.4     1  None\n",
       "1395.6     1  None\n",
       "1395.8     1  None\n",
       "1396.0     1  None\n",
       "1396.2     1  None\n",
       "\n",
       "[2232 rows x 2 columns]"
      ]
     },
     "execution_count": 12,
     "metadata": {},
     "output_type": "execute_result"
    }
   ],
   "source": [
    "LorH"
   ]
  },
  {
   "cell_type": "code",
   "execution_count": 11,
   "metadata": {},
   "outputs": [
    {
     "ename": "NameError",
     "evalue": "name 'save_ris_images_to_folder' is not defined",
     "output_type": "error",
     "traceback": [
      "\u001b[0;31m---------------------------------------------------------------------------\u001b[0m",
      "\u001b[0;31mNameError\u001b[0m                                 Traceback (most recent call last)",
      "\u001b[1;32m/compass/Shared/Users/bogdanov/vyzkumny_ukol/ML_imgs_processing.ipynb Cell 15\u001b[0m line \u001b[0;36m1\n\u001b[0;32m----> <a href='vscode-notebook-cell://ssh-remote%2B7b22686f73744e616d65223a226a7570797465726875622e746f6b2e6970702e6361732e637a222c2275736572223a22626f6764616e6f76227d/compass/Shared/Users/bogdanov/vyzkumny_ukol/ML_imgs_processing.ipynb#X20sdnNjb2RlLXJlbW90ZQ%3D%3D?line=0'>1</a>\u001b[0m ris2_names \u001b[39m=\u001b[39m save_ris_images_to_folder(shot, out_path, ris\u001b[39m=\u001b[39m\u001b[39m2\u001b[39m)\n",
      "\u001b[0;31mNameError\u001b[0m: name 'save_ris_images_to_folder' is not defined"
     ]
    }
   ],
   "source": [
    "ris2_names = save_ris_images_to_folder(shot, out_path, ris=2)"
   ]
  },
  {
   "cell_type": "code",
   "execution_count": null,
   "metadata": {},
   "outputs": [],
   "source": [
    "LorH['ris2'] = ris2_names  #- BAD IDEA"
   ]
  },
  {
   "cell_type": "code",
   "execution_count": null,
   "metadata": {},
   "outputs": [],
   "source": [
    "LorH.to_csv(f'/compass/Shared/Users/bogdanov/vyzkumny_ukol/LHmode-detection-shot{shot}.csv')"
   ]
  },
  {
   "cell_type": "code",
   "execution_count": null,
   "metadata": {},
   "outputs": [],
   "source": []
  }
 ],
 "metadata": {
  "kernelspec": {
   "display_name": "Python 3.9 [anaconda-2023.07]",
   "language": "python",
   "name": "python3.9-anaconda-2023.07"
  },
  "language_info": {
   "codemirror_mode": {
    "name": "ipython",
    "version": 3
   },
   "file_extension": ".py",
   "mimetype": "text/x-python",
   "name": "python",
   "nbconvert_exporter": "python",
   "pygments_lexer": "ipython3",
   "version": "3.9.17"
  }
 },
 "nbformat": 4,
 "nbformat_minor": 2
}
